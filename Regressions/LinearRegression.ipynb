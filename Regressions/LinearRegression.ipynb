{
 "cells": [
  {
   "cell_type": "code",
   "execution_count": 9,
   "id": "champion-scheme",
   "metadata": {},
   "outputs": [
    {
     "name": "stdout",
     "output_type": "stream",
     "text": [
      "0.02637048566375025\n",
      "2.1382364316396893\n"
     ]
    },
    {
     "data": {
      "image/png": "[encoded data removed]",
      "text/plain": [
       "<Figure size 432x288 with 1 Axes>"
      ]
     },
     "metadata": {
      "needs_background": "light"
     },
     "output_type": "display_data"
    }
   ],
   "source": [
    "import numpy as np\n",
    "import matplotlib.pyplot as plt \n",
    "\n",
    "x = 2\n",
    "a = np.arange(-5,5, 0.75)\n",
    "a = a.reshape(-1,1)\n",
    "b = x*a + np.random.randn(*a.shape)\n",
    "m_a, m_b = np.mean(a) , np.mean(b)\n",
    "sab = np.sum(b*a) - len(a)*m_a*m_b\n",
    "saa = np.sum(a*a) - len(a)*m_a*m_a\n",
    "\n",
    "beta_1 = sab/saa\n",
    "beta_0 = m_b - beta_1*m_a\n",
    "\n",
    "y_reg = beta_0 + beta_1*a\n",
    "\n",
    "plt.scatter(a, b, color = \"k\", label =\"Original Data\")\n",
    "plt.plot(a, y_reg, color=\"r\", label = \"Regression\")\n",
    "print(beta_0)\n",
    "print(beta_1)"
   ]
  },
  {
   "cell_type": "code",
   "execution_count": null,
   "id": "liquid-alberta",
   "metadata": {},
   "outputs": [],
   "source": []
  },
  {
   "cell_type": "code",
   "execution_count": null,
   "id": "jewish-batman",
   "metadata": {},
   "outputs": [],
   "source": []
  }
 ],
 "metadata": {
  "kernelspec": {
   "display_name": "Python 3",
   "language": "python",
   "name": "python3"
  },
  "language_info": {
   "codemirror_mode": {
    "name": "ipython",
    "version": 3
   },
   "file_extension": ".py",
   "mimetype": "text/x-python",
   "name": "python",
   "nbconvert_exporter": "python",
   "pygments_lexer": "ipython3",
   "version": "3.7.9"
  }
 },
 "nbformat": 4,
 "nbformat_minor": 5
}
