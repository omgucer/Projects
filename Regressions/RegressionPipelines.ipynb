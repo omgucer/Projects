{
 "cells": [
  {
   "cell_type": "code",
   "execution_count": 1,
   "id": "julian-possibility",
   "metadata": {},
   "outputs": [
    {
     "data": {
      "text/html": [
       "<div>\n",
       "<style scoped>\n",
       "    .dataframe tbody tr th:only-of-type {\n",
       "        vertical-align: middle;\n",
       "    }\n",
       "\n",
       "    .dataframe tbody tr th {\n",
       "        vertical-align: top;\n",
       "    }\n",
       "\n",
       "    .dataframe thead th {\n",
       "        text-align: right;\n",
       "    }\n",
       "</style>\n",
       "<table border=\"1\" class=\"dataframe\">\n",
       "  <thead>\n",
       "    <tr style=\"text-align: right;\">\n",
       "      <th></th>\n",
       "      <th>X1 transaction date</th>\n",
       "      <th>X2 house age</th>\n",
       "      <th>X3 distance to the nearest MRT station</th>\n",
       "      <th>X4 number of convenience stores</th>\n",
       "      <th>X5 latitude</th>\n",
       "      <th>X6 longitude</th>\n",
       "    </tr>\n",
       "  </thead>\n",
       "  <tbody>\n",
       "    <tr>\n",
       "      <th>0</th>\n",
       "      <td>2012.916667</td>\n",
       "      <td>32.0</td>\n",
       "      <td>84.87882</td>\n",
       "      <td>10</td>\n",
       "      <td>24.98298</td>\n",
       "      <td>121.54024</td>\n",
       "    </tr>\n",
       "    <tr>\n",
       "      <th>1</th>\n",
       "      <td>2012.916667</td>\n",
       "      <td>19.5</td>\n",
       "      <td>306.59470</td>\n",
       "      <td>9</td>\n",
       "      <td>24.98034</td>\n",
       "      <td>121.53951</td>\n",
       "    </tr>\n",
       "    <tr>\n",
       "      <th>2</th>\n",
       "      <td>2013.583333</td>\n",
       "      <td>13.3</td>\n",
       "      <td>561.98450</td>\n",
       "      <td>5</td>\n",
       "      <td>24.98746</td>\n",
       "      <td>121.54391</td>\n",
       "    </tr>\n",
       "    <tr>\n",
       "      <th>3</th>\n",
       "      <td>2013.500000</td>\n",
       "      <td>13.3</td>\n",
       "      <td>561.98450</td>\n",
       "      <td>5</td>\n",
       "      <td>24.98746</td>\n",
       "      <td>121.54391</td>\n",
       "    </tr>\n",
       "    <tr>\n",
       "      <th>4</th>\n",
       "      <td>2012.833333</td>\n",
       "      <td>5.0</td>\n",
       "      <td>390.56840</td>\n",
       "      <td>5</td>\n",
       "      <td>24.97937</td>\n",
       "      <td>121.54245</td>\n",
       "    </tr>\n",
       "  </tbody>\n",
       "</table>\n",
       "</div>"
      ],
      "text/plain": [
       "   X1 transaction date  X2 house age  X3 distance to the nearest MRT station  \\\n",
       "0          2012.916667          32.0                                84.87882   \n",
       "1          2012.916667          19.5                               306.59470   \n",
       "2          2013.583333          13.3                               561.98450   \n",
       "3          2013.500000          13.3                               561.98450   \n",
       "4          2012.833333           5.0                               390.56840   \n",
       "\n",
       "   X4 number of convenience stores  X5 latitude  X6 longitude  \n",
       "0                               10     24.98298     121.54024  \n",
       "1                                9     24.98034     121.53951  \n",
       "2                                5     24.98746     121.54391  \n",
       "3                                5     24.98746     121.54391  \n",
       "4                                5     24.97937     121.54245  "
      ]
     },
     "execution_count": 1,
     "metadata": {},
     "output_type": "execute_result"
    }
   ],
   "source": [
    "import pandas as pd \n",
    "import evalml \n",
    "from evalml.automl import AutoMLSearch\n",
    "\n",
    "\n",
    "data = pd.read_excel('c:/users/omar/Real estate valuation data set.xlsx', header=0)\n",
    "#data.head()\n",
    "data.drop('No', axis=1, inplace=True)\n",
    "A = data.iloc[:,:-1].copy()\n",
    "b = data.iloc[:,-1].copy()\n",
    "A.head()\n"
   ]
  },
  {
   "cell_type": "code",
   "execution_count": 2,
   "id": "d4041d92-24af-4745-9150-14a6e228ff53",
   "metadata": {},
   "outputs": [],
   "source": [
    "from evalml.pipelines import RegressionPipeline\n",
    "\n",
    "LinearRegressionPipeline= RegressionPipeline(component_graph= [ 'Standard Scaler', 'Linear Regressor'])\n",
    "    \n",
    "#component_graph_SVR = {\n",
    "#    'StandardScaler': ['Standard Scaler'],\n",
    "#    'Support Vector Regressor': ['SVM Regressor', 'Standard Scaler']\n",
    "#}\n",
    "    \n",
    "SVMRegressionPipeline = RegressionPipeline(component_graph=[ 'Standard Scaler','SVM Regressor'])\n",
    "\n",
    "#component_graph_RFR = {\n",
    "#    'StandardScaler': ['Standard Scaler'],\n",
    "#    'Random Forest Regressor': ['Random Forest Regressor', 'Standard Scaler']\n",
    "#}\n",
    "\n",
    "    \n",
    "RFRegressionPipeline = RegressionPipeline(component_graph = ['Standard Scaler','Random Forest Regressor'] )\n",
    "    "
   ]
  },
  {
   "cell_type": "code",
   "execution_count": 3,
   "id": "b9298b3d-2445-4ed6-a195-1fddb539b729",
   "metadata": {},
   "outputs": [],
   "source": [
    "import woodwork as ww\n",
    "x = ww.DataTable(A, semantic_tags= {'X1 transaction date':'timedelta64'}, \n",
    "                 logical_types={'X1 transaction date':'double'})\n",
    "y = ww.DataColumn(b)\n",
    "\n",
    "x_train, x_test, y_train, y_test = evalml.preprocessing.split_data(x,y,problem_type= 'regression')\n",
    "\n"
   ]
  },
  {
   "cell_type": "code",
   "execution_count": 4,
   "id": "acknowledged-sampling",
   "metadata": {},
   "outputs": [
    {
     "name": "stdout",
     "output_type": "stream",
     "text": [
      "Using default limit of max_batches=1.\n",
      "\n",
      "3 pipelines ready for search.\n",
      "\n",
      "*****************************\n",
      "* Beginning pipeline search *\n",
      "*****************************\n",
      "\n",
      "Optimizing for MAE. \n",
      "Lower score is better.\n",
      "\n",
      "Using SequentialEngine to train and score pipelines.\n",
      "Searching up to 1 batches for a total of 4 pipelines. \n",
      "Allowed model families: random_forest, svm, linear_model\n",
      "\n"
     ]
    },
    {
     "data": {
      "application/vnd.jupyter.widget-view+json": {
       "model_id": "9c6e1ca058f54005916f4e11c9f8e54c",
       "version_major": 2,
       "version_minor": 0
      },
      "text/plain": [
       "FigureWidget({\n",
       "    'data': [{'mode': 'lines+markers',\n",
       "              'name': 'Best Score',\n",
       "              'type'…"
      ]
     },
     "metadata": {},
     "output_type": "display_data"
    },
    {
     "name": "stdout",
     "output_type": "stream",
     "text": [
      "Evaluating Baseline Pipeline: Mean Baseline Regression Pipeline\n",
      "Mean Baseline Regression Pipeline:\n",
      "\tStarting cross validation\n",
      "\tFinished cross validation - mean MAE: 10.857\n",
      "\n",
      "*****************************\n",
      "* Evaluating Batch Number 1 *\n",
      "*****************************\n",
      "\n",
      "Linear Regressor w/ Standard Scaler:\n",
      "\tStarting cross validation\n",
      "\tFinished cross validation - mean MAE: 6.464\n",
      "SVM Regressor w/ Standard Scaler:\n",
      "\tStarting cross validation\n",
      "\tFinished cross validation - mean MAE: 6.282\n",
      "Random Forest Regressor w/ Standard Scaler:\n",
      "\tStarting cross validation\n",
      "\tFinished cross validation - mean MAE: 4.873\n",
      "\n",
      "Search finished after 00:03            \n",
      "Best pipeline: Random Forest Regressor w/ Standard Scaler\n",
      "Best pipeline MAE: 4.873406\n"
     ]
    }
   ],
   "source": [
    "automl = AutoMLSearch(x_train,y_train, problem_type='regression',\n",
    "                     objective = 'MAE', additional_objectives = ['R2','MSE'],\n",
    "                      allowed_pipelines = [LinearRegressionPipeline,SVMRegressionPipeline,RFRegressionPipeline]\n",
    "                     )\n",
    "automl.search()\n"
   ]
  },
  {
   "cell_type": "code",
   "execution_count": null,
   "id": "c0a14912-2b92-4fb9-948e-a4527ec395fd",
   "metadata": {},
   "outputs": [],
   "source": []
  },
  {
   "cell_type": "code",
   "execution_count": 5,
   "id": "precise-petite",
   "metadata": {},
   "outputs": [
    {
     "name": "stdout",
     "output_type": "stream",
     "text": [
      "\n",
      "**********************************************\n",
      "* Random Forest Regressor w/ Standard Scaler *\n",
      "**********************************************\n",
      "\n",
      "Problem Type: regression\n",
      "Model Family: Random Forest\n",
      "\n",
      "Pipeline Steps\n",
      "==============\n",
      "1. Standard Scaler\n",
      "2. Random Forest Regressor\n",
      "\t * n_estimators : 100\n",
      "\t * max_depth : 6\n",
      "\t * n_jobs : -1\n",
      "\n",
      "Training\n",
      "========\n",
      "Training for regression problems.\n",
      "Total training time (including CV): 1.8 seconds\n",
      "\n",
      "Cross Validation\n",
      "----------------\n",
      "              MAE    R2    MSE # Training # Validation\n",
      "0           5.280 0.637 90.787        220          111\n",
      "1           4.258 0.754 37.940        221          110\n",
      "2           5.082 0.652 51.323        221          110\n",
      "mean        4.873 0.681 60.017          -            -\n",
      "std         0.542 0.064 27.476          -            -\n",
      "coef of var 0.111 0.094  0.458          -            -\n"
     ]
    }
   ],
   "source": [
    "#Generate a pipeline\n",
    "\n",
    "best_pipeline = automl.best_pipeline\n",
    "\n",
    "automl.describe_pipeline(automl.rankings.iloc[0][\"id\"])\n"
   ]
  }
 ],
 "metadata": {
  "kernelspec": {
   "display_name": "Python 3",
   "language": "python",
   "name": "python3"
  },
  "language_info": {
   "codemirror_mode": {
    "name": "ipython",
    "version": 3
   },
   "file_extension": ".py",
   "mimetype": "text/x-python",
   "name": "python",
   "nbconvert_exporter": "python",
   "pygments_lexer": "ipython3",
   "version": "3.7.9"
  }
 },
 "nbformat": 4,
 "nbformat_minor": 5
}
